{
 "cells": [
  {
   "cell_type": "markdown",
   "metadata": {
    "collapsed": true
   },
   "source": [
    "## The SUM Data Set (without noise) - Linear Regression"
   ]
  },
  {
   "cell_type": "code",
   "execution_count": 1,
   "metadata": {},
   "outputs": [
    {
     "data": {
      "text/html": [
       "<div>\n",
       "<style>\n",
       "    .dataframe thead tr:only-child th {\n",
       "        text-align: right;\n",
       "    }\n",
       "\n",
       "    .dataframe thead th {\n",
       "        text-align: left;\n",
       "    }\n",
       "\n",
       "    .dataframe tbody tr th {\n",
       "        vertical-align: top;\n",
       "    }\n",
       "</style>\n",
       "<table border=\"1\" class=\"dataframe\">\n",
       "  <thead>\n",
       "    <tr style=\"text-align: right;\">\n",
       "      <th></th>\n",
       "      <th>Feature 1</th>\n",
       "      <th>Feature 2</th>\n",
       "      <th>Feature 3</th>\n",
       "      <th>Feature 4</th>\n",
       "      <th>Feature 5 (meaningless)</th>\n",
       "      <th>Feature 6</th>\n",
       "      <th>Feature 7</th>\n",
       "      <th>Feature 8</th>\n",
       "      <th>Feature 9</th>\n",
       "      <th>Feature 10</th>\n",
       "      <th>Target</th>\n",
       "      <th>Target Class</th>\n",
       "    </tr>\n",
       "    <tr>\n",
       "      <th>Instance</th>\n",
       "      <th></th>\n",
       "      <th></th>\n",
       "      <th></th>\n",
       "      <th></th>\n",
       "      <th></th>\n",
       "      <th></th>\n",
       "      <th></th>\n",
       "      <th></th>\n",
       "      <th></th>\n",
       "      <th></th>\n",
       "      <th></th>\n",
       "      <th></th>\n",
       "    </tr>\n",
       "  </thead>\n",
       "  <tbody>\n",
       "    <tr>\n",
       "      <th>1</th>\n",
       "      <td>57326</td>\n",
       "      <td>68791</td>\n",
       "      <td>82549</td>\n",
       "      <td>99059</td>\n",
       "      <td>72624</td>\n",
       "      <td>142645</td>\n",
       "      <td>171174</td>\n",
       "      <td>205409</td>\n",
       "      <td>246491</td>\n",
       "      <td>295789</td>\n",
       "      <td>1073444</td>\n",
       "      <td>Very Large Number</td>\n",
       "    </tr>\n",
       "    <tr>\n",
       "      <th>2</th>\n",
       "      <td>87859</td>\n",
       "      <td>105431</td>\n",
       "      <td>126517</td>\n",
       "      <td>151820</td>\n",
       "      <td>19982</td>\n",
       "      <td>218621</td>\n",
       "      <td>262345</td>\n",
       "      <td>314814</td>\n",
       "      <td>377777</td>\n",
       "      <td>453332</td>\n",
       "      <td>1645184</td>\n",
       "      <td>Very Large Number</td>\n",
       "    </tr>\n",
       "    <tr>\n",
       "      <th>3</th>\n",
       "      <td>23721</td>\n",
       "      <td>28465</td>\n",
       "      <td>34158</td>\n",
       "      <td>40990</td>\n",
       "      <td>20054</td>\n",
       "      <td>59026</td>\n",
       "      <td>70831</td>\n",
       "      <td>84997</td>\n",
       "      <td>101996</td>\n",
       "      <td>122395</td>\n",
       "      <td>444184</td>\n",
       "      <td>Large Number</td>\n",
       "    </tr>\n",
       "    <tr>\n",
       "      <th>4</th>\n",
       "      <td>24771</td>\n",
       "      <td>29725</td>\n",
       "      <td>35670</td>\n",
       "      <td>42804</td>\n",
       "      <td>7775</td>\n",
       "      <td>61638</td>\n",
       "      <td>73966</td>\n",
       "      <td>88759</td>\n",
       "      <td>106511</td>\n",
       "      <td>127813</td>\n",
       "      <td>463844</td>\n",
       "      <td>Large Number</td>\n",
       "    </tr>\n",
       "    <tr>\n",
       "      <th>5</th>\n",
       "      <td>47862</td>\n",
       "      <td>57434</td>\n",
       "      <td>68921</td>\n",
       "      <td>82705</td>\n",
       "      <td>60872</td>\n",
       "      <td>119095</td>\n",
       "      <td>142914</td>\n",
       "      <td>171497</td>\n",
       "      <td>205796</td>\n",
       "      <td>246955</td>\n",
       "      <td>896224</td>\n",
       "      <td>Very Large Number</td>\n",
       "    </tr>\n",
       "  </tbody>\n",
       "</table>\n",
       "</div>"
      ],
      "text/plain": [
       "          Feature 1  Feature 2  Feature 3  Feature 4  Feature 5 (meaningless)  \\\n",
       "Instance                                                                        \n",
       "1             57326      68791      82549      99059                    72624   \n",
       "2             87859     105431     126517     151820                    19982   \n",
       "3             23721      28465      34158      40990                    20054   \n",
       "4             24771      29725      35670      42804                     7775   \n",
       "5             47862      57434      68921      82705                    60872   \n",
       "\n",
       "          Feature 6  Feature 7  Feature 8  Feature 9  Feature 10   Target  \\\n",
       "Instance                                                                    \n",
       "1            142645     171174     205409     246491      295789  1073444   \n",
       "2            218621     262345     314814     377777      453332  1645184   \n",
       "3             59026      70831      84997     101996      122395   444184   \n",
       "4             61638      73966      88759     106511      127813   463844   \n",
       "5            119095     142914     171497     205796      246955   896224   \n",
       "\n",
       "               Target Class  \n",
       "Instance                     \n",
       "1         Very Large Number  \n",
       "2         Very Large Number  \n",
       "3              Large Number  \n",
       "4              Large Number  \n",
       "5         Very Large Number  "
      ]
     },
     "execution_count": 1,
     "metadata": {},
     "output_type": "execute_result"
    }
   ],
   "source": [
    "import pandas as pd\n",
    "import numpy as np\n",
    "import os\n",
    "\n",
    "# specify data set path\n",
    "data_path = os.path.abspath('Data Sets/The SUM dataset/without noise/The SUM dataset, without noise.csv')\n",
    "\n",
    "# read CSV file directly from path and save the results\n",
    "data = pd.read_csv(data_path, sep=';', index_col = 0) # 'sep' specifies separator used in the CSV file\n",
    "\n",
    "# display the first 5 rows\n",
    "data.head()"
   ]
  },
  {
   "cell_type": "code",
   "execution_count": 2,
   "metadata": {},
   "outputs": [
    {
     "data": {
      "text/plain": [
       "(968135, 12)"
      ]
     },
     "execution_count": 2,
     "metadata": {},
     "output_type": "execute_result"
    }
   ],
   "source": [
    "# check the shape of the DataFrame (rows, cols)\n",
    "data.shape"
   ]
  },
  {
   "cell_type": "code",
   "execution_count": 3,
   "metadata": {
    "collapsed": true
   },
   "outputs": [],
   "source": [
    "# create a python list of feature names\n",
    "feature_cols = ['Feature 1', 'Feature 2', 'Feature 3', 'Feature 4', 'Feature 6', 'Feature 7', 'Feature 8', 'Feature 9', 'Feature 10']\n",
    "\n",
    "\n",
    "\n",
    "# use the list to create a subset of the original DataFrame (X)\n",
    "X = data.loc[:100,feature_cols] # for 100 rows select the 'feature cols'\n",
    "\n",
    "# alternative version\n",
    "# X = data.loc[:100,['Feature 1', 'Feature 2', 'Feature 3', 'Feature 4', 'Feature 6', 'Feature 7', 'Feature 8', 'Feature 9', 'Feature 10']]\n",
    "\n",
    "\n",
    "# select the Target column as the response (Y)  \n",
    "y = data.Target[:100] # select first 100 elements from the Target\n",
    "\n"
   ]
  },
  {
   "cell_type": "code",
   "execution_count": 4,
   "metadata": {},
   "outputs": [
    {
     "name": "stdout",
     "output_type": "stream",
     "text": [
      "(100, 9)\n",
      "(100,)\n"
     ]
    }
   ],
   "source": [
    "# check shape of X and y\n",
    "print(X.shape)\n",
    "print(y.shape)"
   ]
  },
  {
   "cell_type": "code",
   "execution_count": 16,
   "metadata": {},
   "outputs": [
    {
     "name": "stdout",
     "output_type": "stream",
     "text": [
      "[  1.21972744e-20   8.16539761e-20   6.30192513e-20   7.42847895e-20\n",
      "   4.92973175e-20   1.15535294e-19   1.52465931e-20   2.78303263e-20\n",
      "   6.98934530e-21   6.44592073e-20]\n"
     ]
    }
   ],
   "source": [
    "# 10-fold cross validation with linear regression, using RMSE (root mean squared error) metric \n",
    "from sklearn.linear_model import LinearRegression\n",
    "from sklearn.model_selection import cross_val_score\n",
    "\n",
    "linear_reg = LinearRegression() # instantiate model\n",
    "\n",
    "scores = cross_val_score(linear_reg, X, y, cv=10, scoring='neg_mean_squared_error')\n",
    "\n",
    "# note: cross_val_score takes care of splitting the data into folds, \n",
    "# so we don't need to split the data ourselves using train/test split\n",
    "\n",
    "# fix the sign of MSE scores\n",
    "mse_scores = -scores\n",
    "print (mse_scores)"
   ]
  },
  {
   "cell_type": "code",
   "execution_count": 17,
   "metadata": {},
   "outputs": [
    {
     "name": "stdout",
     "output_type": "stream",
     "text": [
      "[  1.10441271e-10   2.85751599e-10   2.51036354e-10   2.72552361e-10\n",
      "   2.22029992e-10   3.39904831e-10   1.23477095e-10   1.66824238e-10\n",
      "   8.36023044e-11   2.53888179e-10]\n"
     ]
    }
   ],
   "source": [
    "# convert from MSE to RMSE\n",
    "rmse_scores = np.sqrt(mse_scores)\n",
    "print (rmse_scores)"
   ]
  },
  {
   "cell_type": "code",
   "execution_count": 7,
   "metadata": {},
   "outputs": [
    {
     "name": "stdout",
     "output_type": "stream",
     "text": [
      "2.1095082248e-10\n"
     ]
    }
   ],
   "source": [
    "# calculate average RMSE\n",
    "print (rmse_scores.mean())"
   ]
  },
  {
   "cell_type": "code",
   "execution_count": null,
   "metadata": {
    "collapsed": true
   },
   "outputs": [],
   "source": []
  },
  {
   "cell_type": "code",
   "execution_count": 8,
   "metadata": {},
   "outputs": [
    {
     "name": "stdout",
     "output_type": "stream",
     "text": [
      "2.16977235647e-10\n"
     ]
    }
   ],
   "source": [
    "# create a python list of feature names\n",
    "feature_cols = ['Feature 1', 'Feature 2', 'Feature 3', 'Feature 4', 'Feature 6', 'Feature 7', 'Feature 8', 'Feature 9', 'Feature 10']\n",
    "\n",
    "\n",
    "\n",
    "# use the list to create a subset of the original DataFrame (X)\n",
    "X1 = data.loc[:500,feature_cols] # for 500 rows select the 'feature cols'\n",
    "\n",
    "# select the Target column as the response (Y)  \n",
    "y1 = data.Target[:500] # select first 100 elements from the Target\n",
    "\n",
    "scores = cross_val_score(linear_reg, X1, y1, cv=10, scoring='neg_mean_squared_error')\n",
    "\n",
    "# note: cross_val_score takes care of splitting the data into folds, \n",
    "# so we don't need to split the data ourselves using train/test split\n",
    "\n",
    "# fix the sign of MSE scores\n",
    "mse_scores = -scores\n",
    "\n",
    "# convert from MSE to RMSE\n",
    "rmse_scores = np.sqrt(mse_scores)\n",
    "\n",
    "# calculate average RMSE\n",
    "print (rmse_scores.mean())"
   ]
  },
  {
   "cell_type": "code",
   "execution_count": 9,
   "metadata": {},
   "outputs": [
    {
     "name": "stdout",
     "output_type": "stream",
     "text": [
      "1.85330994948e-10\n"
     ]
    }
   ],
   "source": [
    "# create a python list of feature names\n",
    "feature_cols = ['Feature 1', 'Feature 2', 'Feature 3', 'Feature 4', 'Feature 6', 'Feature 7', 'Feature 8', 'Feature 9', 'Feature 10']\n",
    "\n",
    "\n",
    "\n",
    "# use the list to create a subset of the original DataFrame (X)\n",
    "X2 = data.loc[:1000,feature_cols] # for 500 rows select the 'feature cols'\n",
    "\n",
    "# select the Target column as the response (Y)  \n",
    "y2 = data.Target[:1000] # select first 100 elements from the Target\n",
    "\n",
    "scores = cross_val_score(linear_reg, X2, y2, cv=10, scoring='neg_mean_squared_error')\n",
    "\n",
    "# note: cross_val_score takes care of splitting the data into folds, \n",
    "# so we don't need to split the data ourselves using train/test split\n",
    "\n",
    "# fix the sign of MSE scores\n",
    "mse_scores = -scores\n",
    "\n",
    "# convert from MSE to RMSE\n",
    "rmse_scores = np.sqrt(mse_scores)\n",
    "\n",
    "# calculate average RMSE\n",
    "print (rmse_scores.mean())"
   ]
  },
  {
   "cell_type": "code",
   "execution_count": 10,
   "metadata": {},
   "outputs": [
    {
     "name": "stdout",
     "output_type": "stream",
     "text": [
      "2.12080415152e-10\n"
     ]
    }
   ],
   "source": [
    "# create a python list of feature names\n",
    "feature_cols = ['Feature 1', 'Feature 2', 'Feature 3', 'Feature 4', 'Feature 6', 'Feature 7', 'Feature 8', 'Feature 9', 'Feature 10']\n",
    "\n",
    "\n",
    "# use the list to create a subset of the original DataFrame (X)\n",
    "X3 = data.loc[:5000,feature_cols] # for 500 rows select the 'feature cols'\n",
    "\n",
    "# select the Target column as the response (Y)  \n",
    "y3 = data.Target[:5000] # select first 100 elements from the Target\n",
    "\n",
    "scores = cross_val_score(linear_reg, X3, y3, cv=10, scoring='neg_mean_squared_error')\n",
    "\n",
    "# note: cross_val_score takes care of splitting the data into folds, \n",
    "# so we don't need to split the data ourselves using train/test split\n",
    "\n",
    "# fix the sign of MSE scores\n",
    "mse_scores = -scores\n",
    "\n",
    "# convert from MSE to RMSE\n",
    "rmse_scores = np.sqrt(mse_scores)\n",
    "\n",
    "# calculate average RMSE\n",
    "print (rmse_scores.mean())"
   ]
  },
  {
   "cell_type": "code",
   "execution_count": 11,
   "metadata": {},
   "outputs": [
    {
     "name": "stdout",
     "output_type": "stream",
     "text": [
      "3.4512005982e-10\n"
     ]
    }
   ],
   "source": [
    "# create a python list of feature names\n",
    "feature_cols = ['Feature 1', 'Feature 2', 'Feature 3', 'Feature 4', 'Feature 6', 'Feature 7', 'Feature 8', 'Feature 9', 'Feature 10']\n",
    "\n",
    "\n",
    "\n",
    "# use the list to create a subset of the original DataFrame (X)\n",
    "X4 = data.loc[:10000,feature_cols] # for 500 rows select the 'feature cols'\n",
    "\n",
    "# select the Target column as the response (Y)  \n",
    "y4 = data.Target[:10000] # select first 100 elements from the Target\n",
    "\n",
    "scores = cross_val_score(linear_reg, X4, y4, cv=10, scoring='neg_mean_squared_error')\n",
    "\n",
    "# note: cross_val_score takes care of splitting the data into folds, \n",
    "# so we don't need to split the data ourselves using train/test split\n",
    "\n",
    "# fix the sign of MSE scores\n",
    "mse_scores = -scores\n",
    "\n",
    "# convert from MSE to RMSE\n",
    "rmse_scores = np.sqrt(mse_scores)\n",
    "\n",
    "# calculate average RMSE\n",
    "print (rmse_scores.mean())"
   ]
  },
  {
   "cell_type": "code",
   "execution_count": 12,
   "metadata": {},
   "outputs": [
    {
     "name": "stdout",
     "output_type": "stream",
     "text": [
      "1.85330994948e-10\n"
     ]
    }
   ],
   "source": [
    "# create a python list of feature names\n",
    "feature_cols = ['Feature 1', 'Feature 2', 'Feature 3', 'Feature 4', 'Feature 6', 'Feature 7', 'Feature 8', 'Feature 9', 'Feature 10']\n",
    "\n",
    "\n",
    "\n",
    "# use the list to create a subset of the original DataFrame (X)\n",
    "X5 = data.loc[:50000,feature_cols] # for 500 rows select the 'feature cols'\n",
    "\n",
    "# select the Target column as the response (Y)  \n",
    "y5 = data.Target[:50000] # select first 100 elements from the Target\n",
    "\n",
    "scores = cross_val_score(linear_reg, X2, y2, cv=10, scoring='neg_mean_squared_error')\n",
    "\n",
    "# note: cross_val_score takes care of splitting the data into folds, \n",
    "# so we don't need to split the data ourselves using train/test split\n",
    "\n",
    "# fix the sign of MSE scores\n",
    "mse_scores = -scores\n",
    "\n",
    "# convert from MSE to RMSE\n",
    "rmse_scores = np.sqrt(mse_scores)\n",
    "\n",
    "# calculate average RMSE\n",
    "print (rmse_scores.mean())"
   ]
  },
  {
   "cell_type": "code",
   "execution_count": 13,
   "metadata": {},
   "outputs": [
    {
     "name": "stdout",
     "output_type": "stream",
     "text": [
      "6.2798077502e-10\n"
     ]
    }
   ],
   "source": [
    "# create a python list of feature names\n",
    "feature_cols = ['Feature 1', 'Feature 2', 'Feature 3', 'Feature 4', 'Feature 6', 'Feature 7', 'Feature 8', 'Feature 9', 'Feature 10']\n",
    "\n",
    "\n",
    "\n",
    "# use the list to create a subset of the original DataFrame (X)\n",
    "X6 = data.loc[:100000,feature_cols] # for 500 rows select the 'feature cols'\n",
    "\n",
    "# select the Target column as the response (Y)  \n",
    "y6 = data.Target[:100000] # select first 100 elements from the Target\n",
    "\n",
    "scores = cross_val_score(linear_reg, X6, y6, cv=10, scoring='neg_mean_squared_error')\n",
    "\n",
    "# note: cross_val_score takes care of splitting the data into folds, \n",
    "# so we don't need to split the data ourselves using train/test split\n",
    "\n",
    "# fix the sign of MSE scores\n",
    "mse_scores = -scores\n",
    "\n",
    "# convert from MSE to RMSE\n",
    "rmse_scores = np.sqrt(mse_scores)\n",
    "\n",
    "# calculate average RMSE\n",
    "print (rmse_scores.mean())"
   ]
  },
  {
   "cell_type": "code",
   "execution_count": null,
   "metadata": {
    "collapsed": true
   },
   "outputs": [],
   "source": []
  },
  {
   "cell_type": "code",
   "execution_count": null,
   "metadata": {
    "collapsed": true
   },
   "outputs": [],
   "source": []
  },
  {
   "cell_type": "code",
   "execution_count": null,
   "metadata": {
    "collapsed": true
   },
   "outputs": [],
   "source": []
  }
 ],
 "metadata": {
  "kernelspec": {
   "display_name": "Python 3",
   "language": "python",
   "name": "python3"
  },
  "language_info": {
   "codemirror_mode": {
    "name": "ipython",
    "version": 3
   },
   "file_extension": ".py",
   "mimetype": "text/x-python",
   "name": "python",
   "nbconvert_exporter": "python",
   "pygments_lexer": "ipython3",
   "version": "3.6.2"
  }
 },
 "nbformat": 4,
 "nbformat_minor": 2
}
